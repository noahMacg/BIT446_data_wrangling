{
 "cells": [
  {
   "cell_type": "markdown",
   "id": "d8878884",
   "metadata": {},
   "source": [
    "# Data Wrangling \n",
    "BIT-446 Topic 1\n",
    "Noah MacGillivray"
   ]
  },
  {
   "cell_type": "markdown",
   "id": "81dcf63e",
   "metadata": {},
   "source": [
    "## Imports "
   ]
  },
  {
   "cell_type": "code",
   "execution_count": 45,
   "id": "f8718de6",
   "metadata": {},
   "outputs": [],
   "source": [
    "import pandas as pd \n",
    "import numpy as np \n",
    "import matplotlib as plt\n",
    "import os "
   ]
  },
  {
   "cell_type": "markdown",
   "id": "1e10af74",
   "metadata": {},
   "source": [
    "## Read in data and add a record field starting at 0"
   ]
  },
  {
   "cell_type": "code",
   "execution_count": 46,
   "id": "b9ac2be8",
   "metadata": {},
   "outputs": [],
   "source": [
    "churn = pd.read_excel('BIT-446-RS-T1-Churn-1.xlsx') # reads in the excel file \n",
    "#print(churn)\n",
    "churn.insert(0, 'ID', range(len(churn))) # pla"
   ]
  },
  {
   "cell_type": "markdown",
   "id": "adb0c7bf",
   "metadata": {},
   "source": [
    "## Header information for dataframe"
   ]
  },
  {
   "cell_type": "code",
   "execution_count": 47,
   "id": "996a20f4",
   "metadata": {},
   "outputs": [
    {
     "name": "stdout",
     "output_type": "stream",
     "text": [
      "<class 'pandas.core.frame.DataFrame'>\n",
      "RangeIndex: 3333 entries, 0 to 3332\n",
      "Data columns (total 22 columns):\n",
      " #   Column          Non-Null Count  Dtype  \n",
      "---  ------          --------------  -----  \n",
      " 0   ID              3333 non-null   int64  \n",
      " 1   State           3333 non-null   object \n",
      " 2   Account Length  3333 non-null   int64  \n",
      " 3   Area Code       3333 non-null   int64  \n",
      " 4   Phone           3333 non-null   object \n",
      " 5   Int'l Plan      3333 non-null   object \n",
      " 6   VMail Plan      3333 non-null   object \n",
      " 7   VMail Message   3331 non-null   float64\n",
      " 8   Day Mins        3332 non-null   float64\n",
      " 9   Day Calls       3332 non-null   float64\n",
      " 10  Day Charge      3329 non-null   float64\n",
      " 11  Eve Mins        3333 non-null   float64\n",
      " 12  Eve Calls       3330 non-null   float64\n",
      " 13  Eve Charge      3332 non-null   float64\n",
      " 14  Night Mins      3331 non-null   float64\n",
      " 15  Night Calls     3331 non-null   float64\n",
      " 16  Night Charge    3333 non-null   float64\n",
      " 17  Intl Mins       3331 non-null   float64\n",
      " 18  Intl Calls      3333 non-null   int64  \n",
      " 19  Intl Charge     3333 non-null   float64\n",
      " 20  CustServ Calls  3333 non-null   int64  \n",
      " 21  Churn?          3333 non-null   object \n",
      "dtypes: float64(12), int64(5), object(5)\n",
      "memory usage: 573.0+ KB\n"
     ]
    }
   ],
   "source": [
    "churn.info() # displays header names and column stats "
   ]
  },
  {
   "cell_type": "markdown",
   "id": "d9613710",
   "metadata": {},
   "source": [
    "## Change columns to lowercase"
   ]
  },
  {
   "cell_type": "code",
   "execution_count": 48,
   "id": "c795fd01",
   "metadata": {},
   "outputs": [
    {
     "name": "stdout",
     "output_type": "stream",
     "text": [
      "Before: ['ID', 'State', 'Account Length', 'Area Code', 'Phone', \"Int'l Plan\", 'VMail Plan', 'VMail Message', 'Day Mins', 'Day Calls', 'Day Charge', 'Eve Mins', 'Eve Calls', 'Eve Charge', 'Night Mins', 'Night Calls', 'Night Charge', 'Intl Mins', 'Intl Calls', 'Intl Charge', 'CustServ Calls', 'Churn?']\n",
      "After: ['id', 'state', 'account length', 'area code', 'phone', \"int'l plan\", 'vmail plan', 'vmail message', 'day mins', 'day calls', 'day charge', 'eve mins', 'eve calls', 'eve charge', 'night mins', 'night calls', 'night charge', 'intl mins', 'intl calls', 'intl charge', 'custserv calls', 'churn?']\n"
     ]
    }
   ],
   "source": [
    "print(\"Before:\", churn.columns.tolist())\n",
    "churn.columns = churn.columns.str.lower()\n",
    "print(\"After:\", churn.columns.tolist())\n"
   ]
  },
  {
   "cell_type": "markdown",
   "id": "b9c89fca",
   "metadata": {},
   "source": [
    "## Replace spaces with underscore & remove special characters"
   ]
  },
  {
   "cell_type": "code",
   "execution_count": 49,
   "id": "77f09a2a",
   "metadata": {},
   "outputs": [
    {
     "name": "stdout",
     "output_type": "stream",
     "text": [
      "Before: ['id', 'state', 'account length', 'area code', 'phone', \"int'l plan\", 'vmail plan', 'vmail message', 'day mins', 'day calls', 'day charge', 'eve mins', 'eve calls', 'eve charge', 'night mins', 'night calls', 'night charge', 'intl mins', 'intl calls', 'intl charge', 'custserv calls', 'churn?']\n",
      "After: ['id', 'state', 'account_length', 'area_code', 'phone', 'intl_plan', 'vmail_plan', 'vmail_message', 'day_mins', 'day_calls', 'day_charge', 'eve_mins', 'eve_calls', 'eve_charge', 'night_mins', 'night_calls', 'night_charge', 'intl_mins', 'intl_calls', 'intl_charge', 'custserv_calls', 'churn']\n"
     ]
    }
   ],
   "source": [
    "print(\"Before:\", churn.columns.tolist())\n",
    "churn.columns = churn.columns.str.replace(' ', '_')\n",
    "churn.columns = churn.columns.str.replace(r'[^a-zA-Z0-9_]', '', regex=True)\n",
    "print(\"After:\", churn.columns.tolist())"
   ]
  }
 ],
 "metadata": {
  "kernelspec": {
   "display_name": "Python 3",
   "language": "python",
   "name": "python3"
  },
  "language_info": {
   "codemirror_mode": {
    "name": "ipython",
    "version": 3
   },
   "file_extension": ".py",
   "mimetype": "text/x-python",
   "name": "python",
   "nbconvert_exporter": "python",
   "pygments_lexer": "ipython3",
   "version": "3.10.12"
  }
 },
 "nbformat": 4,
 "nbformat_minor": 5
}
